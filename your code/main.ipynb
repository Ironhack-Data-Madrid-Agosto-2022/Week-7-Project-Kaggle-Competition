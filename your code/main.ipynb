{
 "cells": [
  {
   "cell_type": "markdown",
   "id": "8b2db3b9",
   "metadata": {},
   "source": [
    "## Disfrutad :)"
   ]
  },
  {
   "cell_type": "code",
   "execution_count": 1,
   "id": "f3dbb35a",
   "metadata": {},
   "outputs": [],
   "source": [
    "import pandas as pd\n",
    "import warnings\n",
    "warnings.filterwarnings('ignore')"
   ]
  },
  {
   "cell_type": "code",
   "execution_count": 2,
   "id": "09bcb0dd",
   "metadata": {},
   "outputs": [],
   "source": [
    "from sklearn.ensemble import RandomForestRegressor as RFR    # el modelo , el alias es cosa mia\n",
    "from sklearn.model_selection import train_test_split as tts  # el alias es cosa mia"
   ]
  },
  {
   "cell_type": "code",
   "execution_count": 3,
   "id": "5ba2ead3",
   "metadata": {},
   "outputs": [],
   "source": [
    "path = '../data/salaries_data.csv'\n",
    "path2 = '../data/test.csv'\n",
    "path3 = '../data/sample.csv'\n",
    "path4 = '../data/dt.csv'"
   ]
  },
  {
   "cell_type": "code",
   "execution_count": 4,
   "id": "a4d628da",
   "metadata": {},
   "outputs": [],
   "source": [
    "dt1 = pd.read_csv(path)\n",
    "dt2 = pd.read_csv(path2)\n",
    "dt3 = pd.read_csv(path3)\n",
    "dtt = pd.read_csv(path4)"
   ]
  },
  {
   "cell_type": "code",
   "execution_count": 5,
   "id": "d2f6785c",
   "metadata": {},
   "outputs": [
    {
     "name": "stdout",
     "output_type": "stream",
     "text": [
      "<class 'pandas.core.frame.DataFrame'>\n",
      "RangeIndex: 245 entries, 0 to 244\n",
      "Data columns (total 9 columns):\n",
      " #   Column              Non-Null Count  Dtype \n",
      "---  ------              --------------  ----- \n",
      " 0   work_year           245 non-null    object\n",
      " 1   experience_level    245 non-null    object\n",
      " 2   employment_type     245 non-null    object\n",
      " 3   job_title           245 non-null    object\n",
      " 4   salary_in_usd       245 non-null    int64 \n",
      " 5   employee_residence  245 non-null    object\n",
      " 6   remote_ratio        245 non-null    int64 \n",
      " 7   company_location    245 non-null    object\n",
      " 8   company_size        245 non-null    object\n",
      "dtypes: int64(2), object(7)\n",
      "memory usage: 17.4+ KB\n",
      "<class 'pandas.core.frame.DataFrame'>\n",
      "RangeIndex: 500 entries, 0 to 499\n",
      "Data columns (total 9 columns):\n",
      " #   Column              Non-Null Count  Dtype \n",
      "---  ------              --------------  ----- \n",
      " 0   work_year           500 non-null    int64 \n",
      " 1   experience_level    500 non-null    object\n",
      " 2   employment_type     500 non-null    object\n",
      " 3   job_title           500 non-null    object\n",
      " 4   salary_in_usd       500 non-null    int64 \n",
      " 5   employee_residence  500 non-null    object\n",
      " 6   remote_ratio        500 non-null    int64 \n",
      " 7   company_location    500 non-null    object\n",
      " 8   company_size        500 non-null    object\n",
      "dtypes: int64(3), object(6)\n",
      "memory usage: 35.3+ KB\n"
     ]
    }
   ],
   "source": [
    "dtt = dtt.drop(columns = ['salary', 'salary_currency'])\n",
    "dtt.info()\n",
    "dt1.info()"
   ]
  },
  {
   "cell_type": "code",
   "execution_count": 6,
   "id": "8f40d1cc",
   "metadata": {},
   "outputs": [
    {
     "data": {
      "text/html": [
       "<div>\n",
       "<style scoped>\n",
       "    .dataframe tbody tr th:only-of-type {\n",
       "        vertical-align: middle;\n",
       "    }\n",
       "\n",
       "    .dataframe tbody tr th {\n",
       "        vertical-align: top;\n",
       "    }\n",
       "\n",
       "    .dataframe thead th {\n",
       "        text-align: right;\n",
       "    }\n",
       "</style>\n",
       "<table border=\"1\" class=\"dataframe\">\n",
       "  <thead>\n",
       "    <tr style=\"text-align: right;\">\n",
       "      <th></th>\n",
       "      <th>work_year</th>\n",
       "      <th>experience_level</th>\n",
       "      <th>employment_type</th>\n",
       "      <th>job_title</th>\n",
       "      <th>salary_in_usd</th>\n",
       "      <th>employee_residence</th>\n",
       "      <th>remote_ratio</th>\n",
       "      <th>company_location</th>\n",
       "      <th>company_size</th>\n",
       "    </tr>\n",
       "  </thead>\n",
       "  <tbody>\n",
       "    <tr>\n",
       "      <th>0</th>\n",
       "      <td>2022</td>\n",
       "      <td>SE</td>\n",
       "      <td>FT</td>\n",
       "      <td>Data Engineer</td>\n",
       "      <td>140250.0</td>\n",
       "      <td>US</td>\n",
       "      <td>100</td>\n",
       "      <td>US</td>\n",
       "      <td>M</td>\n",
       "    </tr>\n",
       "    <tr>\n",
       "      <th>1</th>\n",
       "      <td>2022</td>\n",
       "      <td>SE</td>\n",
       "      <td>FT</td>\n",
       "      <td>Data Engineer</td>\n",
       "      <td>135000.0</td>\n",
       "      <td>US</td>\n",
       "      <td>100</td>\n",
       "      <td>US</td>\n",
       "      <td>M</td>\n",
       "    </tr>\n",
       "    <tr>\n",
       "      <th>2</th>\n",
       "      <td>2021</td>\n",
       "      <td>MI</td>\n",
       "      <td>FT</td>\n",
       "      <td>BI Data Analyst</td>\n",
       "      <td>100000.0</td>\n",
       "      <td>US</td>\n",
       "      <td>100</td>\n",
       "      <td>US</td>\n",
       "      <td>M</td>\n",
       "    </tr>\n",
       "    <tr>\n",
       "      <th>3</th>\n",
       "      <td>2021</td>\n",
       "      <td>MI</td>\n",
       "      <td>CT</td>\n",
       "      <td>ML Engineer</td>\n",
       "      <td>270000.0</td>\n",
       "      <td>US</td>\n",
       "      <td>100</td>\n",
       "      <td>US</td>\n",
       "      <td>L</td>\n",
       "    </tr>\n",
       "    <tr>\n",
       "      <th>4</th>\n",
       "      <td>2021</td>\n",
       "      <td>MI</td>\n",
       "      <td>FT</td>\n",
       "      <td>Data Engineer</td>\n",
       "      <td>26005.0</td>\n",
       "      <td>RO</td>\n",
       "      <td>0</td>\n",
       "      <td>US</td>\n",
       "      <td>L</td>\n",
       "    </tr>\n",
       "    <tr>\n",
       "      <th>...</th>\n",
       "      <td>...</td>\n",
       "      <td>...</td>\n",
       "      <td>...</td>\n",
       "      <td>...</td>\n",
       "      <td>...</td>\n",
       "      <td>...</td>\n",
       "      <td>...</td>\n",
       "      <td>...</td>\n",
       "      <td>...</td>\n",
       "    </tr>\n",
       "    <tr>\n",
       "      <th>240</th>\n",
       "      <td>2020</td>\n",
       "      <td>SE</td>\n",
       "      <td>FT</td>\n",
       "      <td>Data Scientist</td>\n",
       "      <td>412000.0</td>\n",
       "      <td>US</td>\n",
       "      <td>100</td>\n",
       "      <td>US</td>\n",
       "      <td>L</td>\n",
       "    </tr>\n",
       "    <tr>\n",
       "      <th>241</th>\n",
       "      <td>2021e</td>\n",
       "      <td>MI</td>\n",
       "      <td>FT</td>\n",
       "      <td>Principal Data Scientist</td>\n",
       "      <td>151000.0</td>\n",
       "      <td>US</td>\n",
       "      <td>100</td>\n",
       "      <td>US</td>\n",
       "      <td>L</td>\n",
       "    </tr>\n",
       "    <tr>\n",
       "      <th>242</th>\n",
       "      <td>2020</td>\n",
       "      <td>EN</td>\n",
       "      <td>FT</td>\n",
       "      <td>Data Scientist</td>\n",
       "      <td>105000.0</td>\n",
       "      <td>US</td>\n",
       "      <td>100</td>\n",
       "      <td>US</td>\n",
       "      <td>S</td>\n",
       "    </tr>\n",
       "    <tr>\n",
       "      <th>243</th>\n",
       "      <td>2020</td>\n",
       "      <td>EN</td>\n",
       "      <td>CT</td>\n",
       "      <td>Business Data Analyst</td>\n",
       "      <td>100000.0</td>\n",
       "      <td>US</td>\n",
       "      <td>100</td>\n",
       "      <td>US</td>\n",
       "      <td>L</td>\n",
       "    </tr>\n",
       "    <tr>\n",
       "      <th>244</th>\n",
       "      <td>2021e</td>\n",
       "      <td>SE</td>\n",
       "      <td>FT</td>\n",
       "      <td>Data Science Manager</td>\n",
       "      <td>94917.0</td>\n",
       "      <td>IN</td>\n",
       "      <td>50</td>\n",
       "      <td>IN</td>\n",
       "      <td>L</td>\n",
       "    </tr>\n",
       "  </tbody>\n",
       "</table>\n",
       "<p>852 rows × 9 columns</p>\n",
       "</div>"
      ],
      "text/plain": [
       "    work_year experience_level employment_type                 job_title  \\\n",
       "0        2022               SE              FT             Data Engineer   \n",
       "1        2022               SE              FT             Data Engineer   \n",
       "2        2021               MI              FT           BI Data Analyst   \n",
       "3        2021               MI              CT               ML Engineer   \n",
       "4        2021               MI              FT             Data Engineer   \n",
       "..        ...              ...             ...                       ...   \n",
       "240      2020               SE              FT            Data Scientist   \n",
       "241     2021e               MI              FT  Principal Data Scientist   \n",
       "242      2020               EN              FT            Data Scientist   \n",
       "243      2020               EN              CT     Business Data Analyst   \n",
       "244     2021e               SE              FT      Data Science Manager   \n",
       "\n",
       "     salary_in_usd employee_residence  remote_ratio company_location  \\\n",
       "0         140250.0                 US           100               US   \n",
       "1         135000.0                 US           100               US   \n",
       "2         100000.0                 US           100               US   \n",
       "3         270000.0                 US           100               US   \n",
       "4          26005.0                 RO             0               US   \n",
       "..             ...                ...           ...              ...   \n",
       "240       412000.0                 US           100               US   \n",
       "241       151000.0                 US           100               US   \n",
       "242       105000.0                 US           100               US   \n",
       "243       100000.0                 US           100               US   \n",
       "244        94917.0                 IN            50               IN   \n",
       "\n",
       "    company_size  \n",
       "0              M  \n",
       "1              M  \n",
       "2              M  \n",
       "3              L  \n",
       "4              L  \n",
       "..           ...  \n",
       "240            L  \n",
       "241            L  \n",
       "242            S  \n",
       "243            L  \n",
       "244            L  \n",
       "\n",
       "[852 rows x 9 columns]"
      ]
     },
     "execution_count": 6,
     "metadata": {},
     "output_type": "execute_result"
    }
   ],
   "source": [
    "dt4 = pd.concat([dt1, dt2, dtt])\n",
    "dt4"
   ]
  },
  {
   "cell_type": "code",
   "execution_count": 7,
   "id": "c450f35c",
   "metadata": {},
   "outputs": [
    {
     "name": "stdout",
     "output_type": "stream",
     "text": [
      "<class 'pandas.core.frame.DataFrame'>\n",
      "Int64Index: 852 entries, 0 to 244\n",
      "Data columns (total 9 columns):\n",
      " #   Column              Non-Null Count  Dtype  \n",
      "---  ------              --------------  -----  \n",
      " 0   work_year           852 non-null    object \n",
      " 1   experience_level    852 non-null    object \n",
      " 2   employment_type     852 non-null    object \n",
      " 3   job_title           852 non-null    object \n",
      " 4   salary_in_usd       745 non-null    float64\n",
      " 5   employee_residence  852 non-null    object \n",
      " 6   remote_ratio        852 non-null    int64  \n",
      " 7   company_location    852 non-null    object \n",
      " 8   company_size        852 non-null    object \n",
      "dtypes: float64(1), int64(1), object(7)\n",
      "memory usage: 361.9 KB\n"
     ]
    }
   ],
   "source": [
    "dt4.info(memory_usage='deep') #hay nulos"
   ]
  },
  {
   "cell_type": "code",
   "execution_count": 8,
   "id": "557bb4ec",
   "metadata": {},
   "outputs": [
    {
     "name": "stdout",
     "output_type": "stream",
     "text": [
      "<class 'pandas.core.frame.DataFrame'>\n",
      "Int64Index: 745 entries, 0 to 244\n",
      "Data columns (total 9 columns):\n",
      " #   Column              Non-Null Count  Dtype  \n",
      "---  ------              --------------  -----  \n",
      " 0   work_year           745 non-null    object \n",
      " 1   experience_level    745 non-null    object \n",
      " 2   employment_type     745 non-null    object \n",
      " 3   job_title           745 non-null    object \n",
      " 4   salary_in_usd       745 non-null    float64\n",
      " 5   employee_residence  745 non-null    object \n",
      " 6   remote_ratio        745 non-null    int64  \n",
      " 7   company_location    745 non-null    object \n",
      " 8   company_size        745 non-null    object \n",
      "dtypes: float64(1), int64(1), object(7)\n",
      "memory usage: 317.2 KB\n"
     ]
    }
   ],
   "source": [
    "dt4 = dt4.dropna()\n",
    "dt4.info(memory_usage='deep') #no hay nulos"
   ]
  },
  {
   "cell_type": "code",
   "execution_count": 9,
   "id": "376c7288",
   "metadata": {},
   "outputs": [],
   "source": [
    "for i in dt4.job_title:\n",
    "    if 'Engineer' in i:\n",
    "        dt4.job_title.replace({i: 'Data Engineer'}, inplace = True)\n",
    "    elif 'Analy' in i:\n",
    "        dt4.job_title.replace({i: 'Data Analyst'}, inplace = True)\n",
    "    elif 'Architect' in i:\n",
    "        dt4.job_title.replace({i: 'Data Architect'}, inplace = True)\n",
    "    elif 'Scien' in i:\n",
    "        dt4.job_title.replace({i: 'Data Scientist'}, inplace = True)\n",
    "    \n"
   ]
  },
  {
   "cell_type": "code",
   "execution_count": 10,
   "id": "092984ee",
   "metadata": {},
   "outputs": [
    {
     "data": {
      "text/plain": [
       "Data Scientist                   296\n",
       "Data Engineer                    278\n",
       "Data Analyst                     144\n",
       "Data Architect                    11\n",
       "Head of Data                       6\n",
       "Machine Learning Developer         2\n",
       "3D Computer Vision Researcher      2\n",
       "Data Specialist                    2\n",
       "ETL Developer                      2\n",
       "Machine Learning Manager           1\n",
       "Head of Machine Learning           1\n",
       "Name: job_title, dtype: int64"
      ]
     },
     "execution_count": 10,
     "metadata": {},
     "output_type": "execute_result"
    }
   ],
   "source": [
    "dt4.job_title.value_counts()"
   ]
  },
  {
   "cell_type": "code",
   "execution_count": 11,
   "id": "4efefb18",
   "metadata": {},
   "outputs": [
    {
     "data": {
      "text/plain": [
       "2022     263\n",
       "2021     181\n",
       "2021e    179\n",
       "2020      66\n",
       "2020      56\n",
       "Name: work_year, dtype: int64"
      ]
     },
     "execution_count": 11,
     "metadata": {},
     "output_type": "execute_result"
    }
   ],
   "source": [
    "dt4.work_year.value_counts()\n"
   ]
  },
  {
   "cell_type": "code",
   "execution_count": 12,
   "id": "43d9d27c",
   "metadata": {},
   "outputs": [],
   "source": [
    "dt4.work_year.value_counts()\n",
    "lst = []\n",
    "for i in dt4.work_year:\n",
    "    if i == '2021e':\n",
    "        i=2021\n",
    "        lst.append(i)\n",
    "        \n",
    "    elif '2020' in str(i):\n",
    "        i=2020\n",
    "        lst.append(i)\n",
    "\n",
    "    elif '2021' in str(i):\n",
    "        i=2021\n",
    "        lst.append(i)\n",
    "        \n",
    "    elif '2022' in str(i):\n",
    "        i=2022\n",
    "        lst.append(i)"
   ]
  },
  {
   "cell_type": "code",
   "execution_count": 13,
   "id": "b0813fa0",
   "metadata": {},
   "outputs": [],
   "source": [
    "dt4.work_year=lst"
   ]
  },
  {
   "cell_type": "code",
   "execution_count": 14,
   "id": "4be339de",
   "metadata": {},
   "outputs": [],
   "source": [
    "#dt4 = dt4.drop(columns = ['sa'])  "
   ]
  },
  {
   "cell_type": "code",
   "execution_count": 15,
   "id": "5042c7ba",
   "metadata": {},
   "outputs": [],
   "source": [
    "dt4=pd.get_dummies(dt4, columns = ['job_title','company_size','employment_type','experience_level','employee_residence','company_location'], drop_first=True)   # drop_first=True, por defecto es False "
   ]
  },
  {
   "cell_type": "code",
   "execution_count": 16,
   "id": "635efed2",
   "metadata": {},
   "outputs": [],
   "source": [
    "dt_train = dt4[0:500]\n",
    "dt_test = dt4[500:607]\n",
    "dttt=dt4[609:]\n",
    "#dt_train = pd.concat([dt_train, dttt])"
   ]
  },
  {
   "cell_type": "code",
   "execution_count": 17,
   "id": "4fd270bc",
   "metadata": {},
   "outputs": [],
   "source": [
    "dt_train = dt4[0:500]\n",
    "\n",
    "dt_train.drop(dt_train.salary_in_usd[dt_train.salary_in_usd > 300000].index, axis = 0)\n",
    "\n",
    "from sklearn.model_selection import train_test_split as tts\n",
    "\n",
    "y = dt_train.salary_in_usd\n",
    "\n",
    "X = dt_train.drop(['salary_in_usd'], axis=1)\n",
    "\n",
    "X_train, X_test, y_train, y_test = tts(X, y, train_size=0.80, test_size=0.20, random_state=22)"
   ]
  },
  {
   "cell_type": "code",
   "execution_count": null,
   "id": "b846cbc8",
   "metadata": {},
   "outputs": [],
   "source": []
  },
  {
   "cell_type": "code",
   "execution_count": 18,
   "id": "06c91844",
   "metadata": {},
   "outputs": [
    {
     "data": {
      "text/plain": [
       "'metamodelo.fit(X_train, y_train)\\ny_pred=metamodelo.predict(X_test)'"
      ]
     },
     "execution_count": 18,
     "metadata": {},
     "output_type": "execute_result"
    }
   ],
   "source": [
    "from sklearn.linear_model import LinearRegression as LinReg\n",
    "lr = LinReg()\n",
    "\n",
    "from sklearn.linear_model import LogisticRegressionCV as LogReg\n",
    "lo = LogReg()\n",
    "from sklearn.ensemble import RandomForestRegressor as RFR\n",
    "from sklearn.linear_model import BayesianRidge as BR\n",
    "from sklearn.ensemble import GradientBoostingRegressor as Gr\n",
    "from mlxtend.regressor import StackingRegressor\n",
    "\n",
    "'''from lightgbm import LGBMRegressor as LGBMR\n",
    "lgbmr=LGBMR()\n",
    "from catboost import CatBoostClassifier as CTC\n",
    "ctc=CTC(verbose=0)\n",
    "from catboost import CatBoostRegressor as CTR\n",
    "ctr=CTR(verbose=0)\n",
    "from xgboost import XGBClassifier as XGBC\n",
    "xgbc=XGBC()\n",
    "from xgboost import XGBRegressor as XGBR\n",
    "xgbr=XGBR()\n",
    "from sklearn.ensemble import GradientBoostingRegressor as GBR\n",
    "gbr=GBR(n_estimators=50, learning_rate=0.2)'''\n",
    "\n",
    "\n",
    "\n",
    "\"\"\"metamodelo=StackingRegressor(regressors=[lr, lo], meta_regressor=lr)\n",
    "metamodelo.fit(X_train, y_train)\"\"\"\n",
    "linreg = LinReg()\n",
    "lr = LinReg()\n",
    "lr.fit(X_train, y_train)\n",
    "y_pred = lr.predict(X_test)\n",
    "\n",
    "\"\"\"metamodelo.fit(X_train, y_train)\n",
    "y_pred=metamodelo.predict(X_test)\"\"\""
   ]
  },
  {
   "cell_type": "code",
   "execution_count": 19,
   "id": "a57a5e60",
   "metadata": {},
   "outputs": [
    {
     "data": {
      "text/plain": [
       "(36487.853940119385, 0.5818143783643992)"
      ]
     },
     "execution_count": 19,
     "metadata": {},
     "output_type": "execute_result"
    }
   ],
   "source": [
    "from sklearn.metrics import mean_squared_error as mse\n",
    "from sklearn.metrics import r2_score as r2\n",
    "\n",
    "mse(y_test, y_pred, squared=False), r2(y_test, y_pred)"
   ]
  },
  {
   "cell_type": "code",
   "execution_count": 20,
   "id": "1e0a808a",
   "metadata": {},
   "outputs": [
    {
     "data": {
      "text/plain": [
       "(0.5584768085336373, 0.5818143783643992)"
      ]
     },
     "execution_count": 20,
     "metadata": {},
     "output_type": "execute_result"
    }
   ],
   "source": [
    "lr.score(X_train, y_train), lr.score(X_test, y_test)"
   ]
  },
  {
   "cell_type": "code",
   "execution_count": 21,
   "id": "fb75b25d",
   "metadata": {},
   "outputs": [],
   "source": [
    "dt_test= dt_test.drop(columns=['salary_in_usd'])"
   ]
  },
  {
   "cell_type": "code",
   "execution_count": 22,
   "id": "9a195498",
   "metadata": {},
   "outputs": [],
   "source": [
    "y_pred2 = lr.predict(dt_test)"
   ]
  },
  {
   "cell_type": "code",
   "execution_count": 23,
   "id": "b7e6506b",
   "metadata": {},
   "outputs": [],
   "source": [
    "dt_test['salary_in_usd'] = list(y_pred2)"
   ]
  },
  {
   "cell_type": "code",
   "execution_count": 24,
   "id": "2a273468",
   "metadata": {},
   "outputs": [
    {
     "data": {
      "text/plain": [
       "['work_year',\n",
       " 'remote_ratio',\n",
       " 'job_title_Data Analyst',\n",
       " 'job_title_Data Architect',\n",
       " 'job_title_Data Engineer',\n",
       " 'job_title_Data Scientist',\n",
       " 'job_title_Data Specialist',\n",
       " 'job_title_ETL Developer',\n",
       " 'job_title_Head of Data',\n",
       " 'job_title_Head of Machine Learning',\n",
       " 'job_title_Machine Learning Developer',\n",
       " 'job_title_Machine Learning Manager',\n",
       " 'company_size_M',\n",
       " 'company_size_S',\n",
       " 'employment_type_FL',\n",
       " 'employment_type_FT',\n",
       " 'employment_type_PT',\n",
       " 'experience_level_EX',\n",
       " 'experience_level_MI',\n",
       " 'experience_level_SE',\n",
       " 'employee_residence_AT',\n",
       " 'employee_residence_AU',\n",
       " 'employee_residence_BE',\n",
       " 'employee_residence_BG',\n",
       " 'employee_residence_BO',\n",
       " 'employee_residence_BR',\n",
       " 'employee_residence_CA',\n",
       " 'employee_residence_CH',\n",
       " 'employee_residence_CL',\n",
       " 'employee_residence_CN',\n",
       " 'employee_residence_CO',\n",
       " 'employee_residence_CZ',\n",
       " 'employee_residence_DE',\n",
       " 'employee_residence_DK',\n",
       " 'employee_residence_DZ',\n",
       " 'employee_residence_EE',\n",
       " 'employee_residence_ES',\n",
       " 'employee_residence_FR',\n",
       " 'employee_residence_GB',\n",
       " 'employee_residence_GR',\n",
       " 'employee_residence_HK',\n",
       " 'employee_residence_HN',\n",
       " 'employee_residence_HR',\n",
       " 'employee_residence_HU',\n",
       " 'employee_residence_IE',\n",
       " 'employee_residence_IN',\n",
       " 'employee_residence_IR',\n",
       " 'employee_residence_IT',\n",
       " 'employee_residence_JE',\n",
       " 'employee_residence_JP',\n",
       " 'employee_residence_KE',\n",
       " 'employee_residence_LU',\n",
       " 'employee_residence_MD',\n",
       " 'employee_residence_MT',\n",
       " 'employee_residence_MX',\n",
       " 'employee_residence_MY',\n",
       " 'employee_residence_NG',\n",
       " 'employee_residence_NL',\n",
       " 'employee_residence_NZ',\n",
       " 'employee_residence_PH',\n",
       " 'employee_residence_PK',\n",
       " 'employee_residence_PL',\n",
       " 'employee_residence_PR',\n",
       " 'employee_residence_PT',\n",
       " 'employee_residence_RO',\n",
       " 'employee_residence_RS',\n",
       " 'employee_residence_RU',\n",
       " 'employee_residence_SG',\n",
       " 'employee_residence_SI',\n",
       " 'employee_residence_TR',\n",
       " 'employee_residence_UA',\n",
       " 'employee_residence_US',\n",
       " 'employee_residence_VN',\n",
       " 'company_location_AS',\n",
       " 'company_location_AT',\n",
       " 'company_location_AU',\n",
       " 'company_location_BE',\n",
       " 'company_location_BR',\n",
       " 'company_location_CA',\n",
       " 'company_location_CH',\n",
       " 'company_location_CL',\n",
       " 'company_location_CN',\n",
       " 'company_location_CO',\n",
       " 'company_location_CZ',\n",
       " 'company_location_DE',\n",
       " 'company_location_DK',\n",
       " 'company_location_DZ',\n",
       " 'company_location_EE',\n",
       " 'company_location_ES',\n",
       " 'company_location_FR',\n",
       " 'company_location_GB',\n",
       " 'company_location_GR',\n",
       " 'company_location_HN',\n",
       " 'company_location_HR',\n",
       " 'company_location_HU',\n",
       " 'company_location_IE',\n",
       " 'company_location_IL',\n",
       " 'company_location_IN',\n",
       " 'company_location_IR',\n",
       " 'company_location_IT',\n",
       " 'company_location_JP',\n",
       " 'company_location_KE',\n",
       " 'company_location_LU',\n",
       " 'company_location_MD',\n",
       " 'company_location_MT',\n",
       " 'company_location_MX',\n",
       " 'company_location_NG',\n",
       " 'company_location_NL',\n",
       " 'company_location_NZ',\n",
       " 'company_location_PK',\n",
       " 'company_location_PL',\n",
       " 'company_location_PT',\n",
       " 'company_location_RO',\n",
       " 'company_location_RU',\n",
       " 'company_location_SG',\n",
       " 'company_location_SI',\n",
       " 'company_location_TR',\n",
       " 'company_location_UA',\n",
       " 'company_location_US',\n",
       " 'company_location_VN',\n",
       " 'salary_in_usd']"
      ]
     },
     "execution_count": 24,
     "metadata": {},
     "output_type": "execute_result"
    }
   ],
   "source": [
    "cols = list(dt_test.columns)"
   ]
  },
  {
   "cell_type": "code",
   "execution_count": 25,
   "id": "58990003",
   "metadata": {},
   "outputs": [],
   "source": [
    "dt_tes3 = dt_test.drop(columns=cols[:-1])"
   ]
  },
  {
   "cell_type": "code",
   "execution_count": 26,
   "id": "b2a5ceef",
   "metadata": {},
   "outputs": [],
   "source": [
    "dt_tes3 = dt_tes3.reset_index().rename(columns = {'index':'id'})"
   ]
  },
  {
   "cell_type": "code",
   "execution_count": 27,
   "id": "f2fab50f",
   "metadata": {},
   "outputs": [],
   "source": [
    "dt_tes3.to_csv('sample6.csv', index = False)"
   ]
  },
  {
   "cell_type": "code",
   "execution_count": 28,
   "id": "028e2de3",
   "metadata": {},
   "outputs": [],
   "source": [
    "tes = pd.read_csv('sample6.csv')"
   ]
  },
  {
   "cell_type": "code",
   "execution_count": 29,
   "id": "e21436af",
   "metadata": {},
   "outputs": [
    {
     "data": {
      "text/html": [
       "<div>\n",
       "<style scoped>\n",
       "    .dataframe tbody tr th:only-of-type {\n",
       "        vertical-align: middle;\n",
       "    }\n",
       "\n",
       "    .dataframe tbody tr th {\n",
       "        vertical-align: top;\n",
       "    }\n",
       "\n",
       "    .dataframe thead th {\n",
       "        text-align: right;\n",
       "    }\n",
       "</style>\n",
       "<table border=\"1\" class=\"dataframe\">\n",
       "  <thead>\n",
       "    <tr style=\"text-align: right;\">\n",
       "      <th></th>\n",
       "      <th>id</th>\n",
       "      <th>salary_in_usd</th>\n",
       "    </tr>\n",
       "  </thead>\n",
       "  <tbody>\n",
       "    <tr>\n",
       "      <th>0</th>\n",
       "      <td>0</td>\n",
       "      <td>81231.387031</td>\n",
       "    </tr>\n",
       "    <tr>\n",
       "      <th>1</th>\n",
       "      <td>1</td>\n",
       "      <td>126304.355066</td>\n",
       "    </tr>\n",
       "    <tr>\n",
       "      <th>2</th>\n",
       "      <td>2</td>\n",
       "      <td>141612.093783</td>\n",
       "    </tr>\n",
       "    <tr>\n",
       "      <th>3</th>\n",
       "      <td>3</td>\n",
       "      <td>148540.365118</td>\n",
       "    </tr>\n",
       "    <tr>\n",
       "      <th>4</th>\n",
       "      <td>4</td>\n",
       "      <td>105910.608290</td>\n",
       "    </tr>\n",
       "    <tr>\n",
       "      <th>...</th>\n",
       "      <td>...</td>\n",
       "      <td>...</td>\n",
       "    </tr>\n",
       "    <tr>\n",
       "      <th>102</th>\n",
       "      <td>102</td>\n",
       "      <td>103594.243839</td>\n",
       "    </tr>\n",
       "    <tr>\n",
       "      <th>103</th>\n",
       "      <td>103</td>\n",
       "      <td>136072.176779</td>\n",
       "    </tr>\n",
       "    <tr>\n",
       "      <th>104</th>\n",
       "      <td>104</td>\n",
       "      <td>172407.298531</td>\n",
       "    </tr>\n",
       "    <tr>\n",
       "      <th>105</th>\n",
       "      <td>105</td>\n",
       "      <td>42377.706564</td>\n",
       "    </tr>\n",
       "    <tr>\n",
       "      <th>106</th>\n",
       "      <td>106</td>\n",
       "      <td>100000.000000</td>\n",
       "    </tr>\n",
       "  </tbody>\n",
       "</table>\n",
       "<p>107 rows × 2 columns</p>\n",
       "</div>"
      ],
      "text/plain": [
       "      id  salary_in_usd\n",
       "0      0   81231.387031\n",
       "1      1  126304.355066\n",
       "2      2  141612.093783\n",
       "3      3  148540.365118\n",
       "4      4  105910.608290\n",
       "..   ...            ...\n",
       "102  102  103594.243839\n",
       "103  103  136072.176779\n",
       "104  104  172407.298531\n",
       "105  105   42377.706564\n",
       "106  106  100000.000000\n",
       "\n",
       "[107 rows x 2 columns]"
      ]
     },
     "execution_count": 29,
     "metadata": {},
     "output_type": "execute_result"
    }
   ],
   "source": [
    "tes"
   ]
  },
  {
   "cell_type": "code",
   "execution_count": null,
   "id": "4f933d9f",
   "metadata": {},
   "outputs": [],
   "source": []
  }
 ],
 "metadata": {
  "kernelspec": {
   "display_name": "Python 3 (ipykernel)",
   "language": "python",
   "name": "python3"
  },
  "language_info": {
   "codemirror_mode": {
    "name": "ipython",
    "version": 3
   },
   "file_extension": ".py",
   "mimetype": "text/x-python",
   "name": "python",
   "nbconvert_exporter": "python",
   "pygments_lexer": "ipython3",
   "version": "3.9.12"
  }
 },
 "nbformat": 4,
 "nbformat_minor": 5
}
