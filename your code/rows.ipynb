{
 "cells": [
  {
   "cell_type": "code",
   "execution_count": 1,
   "id": "341255d5",
   "metadata": {},
   "outputs": [],
   "source": [
    "import pandas as pd\n",
    "import numpy as np\n",
    "\n",
    "import warnings\n",
    "warnings.filterwarnings(\"ignore\")\n",
    "\n",
    "import pylab as plt\n",
    "import seaborn as sns"
   ]
  },
  {
   "cell_type": "code",
   "execution_count": 2,
   "id": "379b3d47",
   "metadata": {},
   "outputs": [],
   "source": [
    "salaries = pd.read_csv(\"../data/salaries_data.csv\")\n",
    "test = pd.read_csv(\"../data/test.csv\")"
   ]
  },
  {
   "cell_type": "code",
   "execution_count": 3,
   "id": "a95c9653",
   "metadata": {},
   "outputs": [],
   "source": [
    "# job_salaries column"
   ]
  },
  {
   "cell_type": "code",
   "execution_count": 4,
   "id": "db98ca7e",
   "metadata": {},
   "outputs": [],
   "source": [
    "def fix_jobs_salaries():\n",
    "    salaries.job_title = [\"Machine Learning\" if \"Machine\" in word else word for word in salaries.job_title]\n",
    "    salaries.job_title = [\"Data Science Manager\" if \"Manager\" in word or \"Director\" in word or \"Lead\" in word or \"Head\" in word or \"Principal\" in word else word for word in salaries.job_title]\n",
    "    salaries.job_title = [\"Data Engineer\" if \"Engineer\" in word else word for word in salaries.job_title]\n",
    "    salaries.job_title = [\"Data Architect\" if \"Architect\" in word else word for word in salaries.job_title]\n",
    "    salaries.job_title = [\"Finance Data Analyst\" if \"Finance\" in word or \"Financial\" in word else word for word in salaries.job_title]\n",
    "    top7 = list(salaries.job_title.value_counts().index[:7])\n",
    "    salaries.loc[-salaries.job_title.isin(top7), ['job_title']] = 'Other' #8 categories"
   ]
  },
  {
   "cell_type": "code",
   "execution_count": 5,
   "id": "dd4488a2",
   "metadata": {},
   "outputs": [],
   "source": [
    "def fix_jobs_salaries_test():\n",
    "    test.job_title = [\"Machine Learning\" if \"Machine\" in word else word for word in test.job_title]\n",
    "    test.job_title = [\"Data Science Manager\" if \"Manager\" in word or \"Director\" in word or \"Lead\" in word or \"Head\" in word or \"Principal\" in word else word for word in test.job_title]\n",
    "    test.job_title = [\"Data Engineer\" if \"Engineer\" in word else word for word in test.job_title]\n",
    "    test.job_title = [\"Data Architect\" if \"Architect\" in word else word for word in test.job_title]\n",
    "    test.job_title = [\"Finance Data Analyst\" if \"Finance\" in word or \"Financial\" in word else word for word in test.job_title]\n",
    "    top7 = list(test.job_title.value_counts().index[:7])\n",
    "    test.loc[-test.job_title.isin(top7), ['job_title']] = 'Other' #8 categories"
   ]
  },
  {
   "cell_type": "code",
   "execution_count": 6,
   "id": "6d500642",
   "metadata": {},
   "outputs": [],
   "source": [
    "fix_jobs_salaries()"
   ]
  },
  {
   "cell_type": "code",
   "execution_count": 7,
   "id": "c5af4455",
   "metadata": {},
   "outputs": [],
   "source": [
    "fix_jobs_salaries_test()"
   ]
  },
  {
   "cell_type": "code",
   "execution_count": 8,
   "id": "b3868df5",
   "metadata": {},
   "outputs": [],
   "source": [
    "size ={'S': 1, 'M': 2, 'L': 10}  #categorize company_size\n",
    "\n",
    "def size_change(x):\n",
    "    return size[x]    \n",
    "\n",
    "salaries.company_size =salaries.company_size.apply(lambda x: size[x])\n",
    "test.company_size =test.company_size.apply(lambda x: size[x])"
   ]
  },
  {
   "cell_type": "code",
   "execution_count": 9,
   "id": "39ac7ed4",
   "metadata": {},
   "outputs": [],
   "source": [
    "experience ={'EN': 0, 'MI': 2, 'SE': 4, 'EX': 7}  #categorize experience_level\n",
    "\n",
    "def experience_change(x):\n",
    "    return experience[x]    \n",
    "\n",
    "salaries.experience_level = salaries.experience_level.apply(lambda x: experience[x])\n",
    "test.experience_level = test.experience_level.apply(lambda x: experience[x])"
   ]
  },
  {
   "cell_type": "code",
   "execution_count": 10,
   "id": "62369ceb",
   "metadata": {},
   "outputs": [],
   "source": [
    "a = list(set(list(salaries.employee_residence.value_counts().index) + list(test.employee_residence.value_counts().index)))\n",
    "b = list(set(list(salaries.company_location.value_counts().index) + list(test.company_location.value_counts().index)))\n",
    "\n",
    "countries = list((set(a+b))) #unique countries\n",
    "\n",
    "country_dict = {}\n",
    "for i, value in enumerate(countries):\n",
    "    country_dict[value] = i"
   ]
  },
  {
   "cell_type": "code",
   "execution_count": 11,
   "id": "75f487f2",
   "metadata": {},
   "outputs": [],
   "source": [
    "company_location_different = list(salaries[salaries.employee_residence != salaries.company_location].index)"
   ]
  },
  {
   "cell_type": "code",
   "execution_count": 12,
   "id": "2d2bd31a",
   "metadata": {},
   "outputs": [],
   "source": [
    "salaries[\"company_in_country_or_not\"] = [1 for i in range(len(salaries))]\n",
    "test[\"company_in_country_or_not\"] = [1 for i in range(len(test))]"
   ]
  },
  {
   "cell_type": "code",
   "execution_count": 13,
   "id": "79382f86",
   "metadata": {},
   "outputs": [],
   "source": [
    "#new column to substitute company_location\n",
    "\n",
    "for i in company_location_different:\n",
    "    salaries.loc[i,\"company_in_country_or_not\"] = 0\n",
    "    \n",
    "for i in company_location_different:\n",
    "    test.loc[i,\"company_in_country_or_not\"] = 0"
   ]
  },
  {
   "cell_type": "code",
   "execution_count": 14,
   "id": "25ddcb17",
   "metadata": {},
   "outputs": [],
   "source": [
    "salaries.drop(\"company_location\", axis=1, inplace=True)\n",
    "test.drop(\"company_location\", axis=1, inplace=True)"
   ]
  },
  {
   "cell_type": "code",
   "execution_count": 17,
   "id": "3d510386",
   "metadata": {},
   "outputs": [],
   "source": [
    "to_drop_rows = [51, 183, 95, 85 ,159, 299, 259, 200, 281, 432, 18, 98, 364, 477]"
   ]
  },
  {
   "cell_type": "code",
   "execution_count": 18,
   "id": "83c445b9",
   "metadata": {},
   "outputs": [],
   "source": [
    "to_drop_rows.sort()"
   ]
  },
  {
   "cell_type": "code",
   "execution_count": 19,
   "id": "3c774111",
   "metadata": {},
   "outputs": [
    {
     "data": {
      "text/plain": [
       "14"
      ]
     },
     "execution_count": 19,
     "metadata": {},
     "output_type": "execute_result"
    }
   ],
   "source": [
    "len(to_drop_rows)"
   ]
  },
  {
   "cell_type": "code",
   "execution_count": 20,
   "id": "2bf2cedf",
   "metadata": {},
   "outputs": [],
   "source": [
    "salaries.drop(to_drop_rows, axis=0, inplace=True) #drop outliers"
   ]
  },
  {
   "cell_type": "code",
   "execution_count": 21,
   "id": "ddd9dd9c",
   "metadata": {},
   "outputs": [],
   "source": [
    "a = list(set(list(salaries.employee_residence.value_counts().index) + list(test.employee_residence.value_counts().index)))\n",
    "\n",
    "countries = list(set(a)) #unique countries\n",
    "countries.sort()\n",
    "\n",
    "country_dict = {}\n",
    "for i, value in enumerate(countries):\n",
    "    country_dict[value] = i"
   ]
  },
  {
   "cell_type": "code",
   "execution_count": 22,
   "id": "6ce58719",
   "metadata": {},
   "outputs": [],
   "source": [
    "average_salary_country = {\n",
    "    \n",
    " 'AE': 85000,\n",
    " 'AR': 12000,\n",
    " 'AT': 56000,\n",
    " 'AU': 68500,\n",
    " 'BE': 61000,\n",
    " 'BG': 23400,\n",
    " 'BR': 9400,\n",
    " 'BO': 6700,\n",
    " 'CA': 70000,\n",
    " 'CH': 96000,\n",
    " 'CL': 26500,\n",
    " 'CN': 37600,\n",
    " 'CO': 32000,\n",
    " 'CZ': 36400,\n",
    " 'DE': 55400,\n",
    " 'DZ': 7200,\n",
    " 'DK': 39800,\n",
    " 'EE': 26200,\n",
    " 'ES': 29000,\n",
    " 'FR': 40300,\n",
    " 'GB': 49000,\n",
    " 'GR': 44000,\n",
    " 'HK': 79000,\n",
    " 'HN': 14100,\n",
    " 'HR': 34600,\n",
    " 'HU': 25600,\n",
    " 'IE': 48900,\n",
    " 'IN': 17400,\n",
    " 'IQ': 15600,\n",
    " 'IR': 11500,\n",
    " 'IT': 30000,\n",
    " 'JE': 40300,\n",
    " 'JP': 41100,\n",
    " 'KE': 8700,\n",
    " 'LU': 47000,\n",
    " 'MD': 19000,\n",
    " 'MT': 27000,\n",
    " 'MX': 21000,\n",
    " 'MY': 13140,\n",
    " 'NG': 9000,\n",
    " 'NL': 41100,\n",
    " 'NZ': 47000,\n",
    " 'PH': 4680,\n",
    " 'PK': 3250,\n",
    " 'PL': 26000,\n",
    " 'PR': 51000,\n",
    " 'PT': 21300,\n",
    " 'PU': 9900,\n",
    " 'RO': 24500,\n",
    " 'RS': 23500,\n",
    " 'RU': 25500,\n",
    " 'SG': 60000,\n",
    " 'SI': 31000,\n",
    " 'TN': 5300,\n",
    " 'TR': 12000,\n",
    " 'UA': 10200,\n",
    " 'US': 85000,\n",
    " 'VN': 8000}"
   ]
  },
  {
   "cell_type": "code",
   "execution_count": 23,
   "id": "b5020995",
   "metadata": {},
   "outputs": [],
   "source": [
    "salaries[\"average_salary_in_usd\"] = [average_salary_country[i] for i in salaries.employee_residence]"
   ]
  },
  {
   "cell_type": "code",
   "execution_count": 24,
   "id": "b8cfce17",
   "metadata": {},
   "outputs": [],
   "source": [
    "test = test[:107]"
   ]
  },
  {
   "cell_type": "code",
   "execution_count": 25,
   "id": "51b742a8",
   "metadata": {},
   "outputs": [],
   "source": [
    "test[\"average_salary_in_usd\"] = [average_salary_country[i] for i in test.employee_residence]"
   ]
  },
  {
   "cell_type": "code",
   "execution_count": 26,
   "id": "f4052029",
   "metadata": {},
   "outputs": [],
   "source": [
    "i = 0\n",
    "countries_count = {}\n",
    "for k, v in average_salary_country.items():\n",
    "    countries_count[k] = i\n",
    "    i += 1   "
   ]
  },
  {
   "cell_type": "code",
   "execution_count": 27,
   "id": "d77a92f0",
   "metadata": {},
   "outputs": [
    {
     "data": {
      "text/plain": [
       "{'AE': 0,\n",
       " 'AR': 1,\n",
       " 'AT': 2,\n",
       " 'AU': 3,\n",
       " 'BE': 4,\n",
       " 'BG': 5,\n",
       " 'BR': 6,\n",
       " 'BO': 7,\n",
       " 'CA': 8,\n",
       " 'CH': 9,\n",
       " 'CL': 10,\n",
       " 'CN': 11,\n",
       " 'CO': 12,\n",
       " 'CZ': 13,\n",
       " 'DE': 14,\n",
       " 'DZ': 15,\n",
       " 'DK': 16,\n",
       " 'EE': 17,\n",
       " 'ES': 18,\n",
       " 'FR': 19,\n",
       " 'GB': 20,\n",
       " 'GR': 21,\n",
       " 'HK': 22,\n",
       " 'HN': 23,\n",
       " 'HR': 24,\n",
       " 'HU': 25,\n",
       " 'IE': 26,\n",
       " 'IN': 27,\n",
       " 'IQ': 28,\n",
       " 'IR': 29,\n",
       " 'IT': 30,\n",
       " 'JE': 31,\n",
       " 'JP': 32,\n",
       " 'KE': 33,\n",
       " 'LU': 34,\n",
       " 'MD': 35,\n",
       " 'MT': 36,\n",
       " 'MX': 37,\n",
       " 'MY': 38,\n",
       " 'NG': 39,\n",
       " 'NL': 40,\n",
       " 'NZ': 41,\n",
       " 'PH': 42,\n",
       " 'PK': 43,\n",
       " 'PL': 44,\n",
       " 'PR': 45,\n",
       " 'PT': 46,\n",
       " 'PU': 47,\n",
       " 'RO': 48,\n",
       " 'RS': 49,\n",
       " 'RU': 50,\n",
       " 'SG': 51,\n",
       " 'SI': 52,\n",
       " 'TN': 53,\n",
       " 'TR': 54,\n",
       " 'UA': 55,\n",
       " 'US': 56,\n",
       " 'VN': 57}"
      ]
     },
     "execution_count": 27,
     "metadata": {},
     "output_type": "execute_result"
    }
   ],
   "source": [
    "countries_count"
   ]
  },
  {
   "cell_type": "code",
   "execution_count": 28,
   "id": "69f1d649",
   "metadata": {},
   "outputs": [],
   "source": [
    "#categorize countries\n",
    "\n",
    "def countries_change(x):\n",
    "    return countries_count[x]    \n",
    "\n",
    "salaries.employee_residence = salaries.employee_residence.apply(lambda x: countries_count[x])\n",
    "test.employee_residence = test.employee_residence.apply(lambda x: countries_count[x])"
   ]
  },
  {
   "cell_type": "markdown",
   "id": "2dd89a23",
   "metadata": {},
   "source": [
    "## joined dataframe for dummies"
   ]
  },
  {
   "cell_type": "code",
   "execution_count": 29,
   "id": "d8e2935e",
   "metadata": {},
   "outputs": [],
   "source": [
    "df = pd.concat([salaries,test], axis=0)"
   ]
  },
  {
   "cell_type": "code",
   "execution_count": 30,
   "id": "e74e1756",
   "metadata": {},
   "outputs": [],
   "source": [
    "df = pd.get_dummies(df, columns=['job_title'])\n",
    "df = pd.get_dummies(df, columns=['employment_type'])"
   ]
  },
  {
   "cell_type": "code",
   "execution_count": 32,
   "id": "6432f94e",
   "metadata": {},
   "outputs": [
    {
     "data": {
      "text/plain": [
       "(593, 20)"
      ]
     },
     "execution_count": 32,
     "metadata": {},
     "output_type": "execute_result"
    }
   ],
   "source": [
    "df.shape"
   ]
  },
  {
   "cell_type": "markdown",
   "id": "207b16ad",
   "metadata": {},
   "source": [
    "## again to original two dataframes"
   ]
  },
  {
   "cell_type": "code",
   "execution_count": 34,
   "id": "9008ba57",
   "metadata": {},
   "outputs": [],
   "source": [
    "salaries = df[:486]"
   ]
  },
  {
   "cell_type": "code",
   "execution_count": 35,
   "id": "96a0e6d4",
   "metadata": {},
   "outputs": [],
   "source": [
    "test = df[486:]"
   ]
  },
  {
   "cell_type": "code",
   "execution_count": 36,
   "id": "236ac03d",
   "metadata": {},
   "outputs": [],
   "source": [
    "from sklearn.tree import DecisionTreeRegressor as DTR\n",
    "from sklearn.ensemble import RandomForestRegressor as RFR\n",
    "\n",
    "from sklearn.preprocessing import StandardScaler"
   ]
  },
  {
   "cell_type": "code",
   "execution_count": 37,
   "id": "1c72ebe4",
   "metadata": {},
   "outputs": [],
   "source": [
    "# DTR\n",
    "\n",
    "X=salaries.drop(\"salary_in_usd\", axis=1)\n",
    "\n",
    "y=salaries.salary_in_usd"
   ]
  },
  {
   "cell_type": "code",
   "execution_count": 38,
   "id": "5050d4fa",
   "metadata": {},
   "outputs": [],
   "source": [
    "dtr=DTR().fit(X, y)"
   ]
  },
  {
   "cell_type": "code",
   "execution_count": 39,
   "id": "c64c08c8",
   "metadata": {},
   "outputs": [],
   "source": [
    "X_norm=StandardScaler().fit_transform(X)\n",
    "\n",
    "dtr=DTR().fit(X_norm, y)"
   ]
  },
  {
   "cell_type": "code",
   "execution_count": 40,
   "id": "6beb74c0",
   "metadata": {},
   "outputs": [],
   "source": [
    "rfr=RFR(n_estimators=2000).fit(X_norm, y)"
   ]
  },
  {
   "cell_type": "code",
   "execution_count": 41,
   "id": "c69947ac",
   "metadata": {},
   "outputs": [
    {
     "data": {
      "text/plain": [
       "{'work_year': 0.08028021120409672,\n",
       " 'experience_level': 0.1281732932473201,\n",
       " 'employee_residence': 0.030220612525117155,\n",
       " 'remote_ratio': 0.026820384411437328,\n",
       " 'company_size': 0.049129280258040704,\n",
       " 'company_in_country_or_not': 0.002417537724127291,\n",
       " 'average_salary_in_usd': 0.44973329842846815,\n",
       " 'job_title_Data Analyst': 0.05531256139703311,\n",
       " 'job_title_Data Architect': 0.00859874282597249,\n",
       " 'job_title_Data Engineer': 0.011970754339411343,\n",
       " 'job_title_Data Science Manager': 0.04153782581538275,\n",
       " 'job_title_Data Scientist': 0.012182011151748235,\n",
       " 'job_title_Machine Learning': 0.02026796687495396,\n",
       " 'job_title_Other': 0.021051646733218576,\n",
       " 'job_title_Research Scientist': 0.041539814604755566,\n",
       " 'employment_type_CT': 0.009484993908321446,\n",
       " 'employment_type_FL': 0.000187928534317527,\n",
       " 'employment_type_FT': 0.010096017662530129,\n",
       " 'employment_type_PT': 0.0009951183537474676}"
      ]
     },
     "execution_count": 41,
     "metadata": {},
     "output_type": "execute_result"
    }
   ],
   "source": [
    "dict(zip(X.columns, rfr.feature_importances_)) # de media"
   ]
  },
  {
   "cell_type": "markdown",
   "id": "2d4d2225",
   "metadata": {},
   "source": [
    "## testeo de modelos manual"
   ]
  },
  {
   "cell_type": "code",
   "execution_count": 42,
   "id": "fa43732f",
   "metadata": {},
   "outputs": [],
   "source": [
    "from sklearn.linear_model import LogisticRegression as LogReg\n",
    "from sklearn.linear_model import LinearRegression as LinReg\n",
    "from sklearn.linear_model import Lasso as Lasso\n",
    "from sklearn.linear_model import Ridge as Ridge\n",
    "from sklearn.linear_model import ElasticNet as ElasticNet\n",
    "from sklearn.linear_model import BayesianRidge as BayesianRidge\n",
    "from sklearn.linear_model import SGDRegressor as SGD\n",
    "from xgboost import XGBRegressor as XGBR\n",
    "from sklearn.ensemble import RandomForestRegressor as RFR\n",
    "from sklearn.ensemble import RandomForestClassifier as RFC\n",
    "from sklearn.ensemble import GradientBoostingRegressor as GradBoost\n",
    "from sklearn.svm import SVC\n",
    "from sklearn.svm import SVR\n",
    "from lightgbm import LGBMRegressor as LGBMR\n",
    "from catboost import CatBoostRegressor as CTR\n",
    "from sklearn.kernel_ridge import KernelRidge as KernelRidge"
   ]
  },
  {
   "cell_type": "code",
   "execution_count": 43,
   "id": "b304557e",
   "metadata": {},
   "outputs": [],
   "source": [
    "from sklearn.model_selection import train_test_split as tts\n",
    "from sklearn.metrics import mean_squared_error as mse\n",
    "from sklearn.metrics import r2_score as r2"
   ]
  },
  {
   "cell_type": "code",
   "execution_count": 44,
   "id": "1a0629ea",
   "metadata": {},
   "outputs": [],
   "source": [
    "X_train, X_test, y_train, y_test=tts(X, y, random_state=22)"
   ]
  },
  {
   "cell_type": "code",
   "execution_count": 45,
   "id": "11809ec7",
   "metadata": {},
   "outputs": [],
   "source": [
    "def models():\n",
    "    \n",
    "    #initialize\n",
    "    \n",
    "    logreg= LogReg()\n",
    "    linreg = LinReg()\n",
    "    lasso = Lasso()\n",
    "    ridge = Ridge()\n",
    "    elasticnet = ElasticNet()\n",
    "    bayesianridge = BayesianRidge()\n",
    "    sgd = SGD()\n",
    "    rfr = RFR()\n",
    "    rfc = RFC()\n",
    "    gradboost = GradBoost()\n",
    "    xgbr = XGBR()\n",
    "    ctr = CTR()\n",
    "    lgbmr=LGBMR()\n",
    "    svc = SVC()\n",
    "    svr = SVR()\n",
    "    kernelridge = KernelRidge()\n",
    "    \n",
    "    #train\n",
    "    \n",
    "    linreg.fit(X_train, y_train)\n",
    "    logreg.fit(X_train, y_train)\n",
    "    lasso.fit(X_train, y_train)\n",
    "    ridge.fit(X_train, y_train)\n",
    "    elasticnet.fit(X_train, y_train)\n",
    "    bayesianridge.fit(X_train, y_train)\n",
    "    sgd.fit(X_train, y_train)\n",
    "    rfr.fit(X_train, y_train)\n",
    "    rfc.fit(X_train, y_train)\n",
    "    gradboost.fit(X_train, y_train)\n",
    "    xgbr.fit(X_train, y_train)\n",
    "    ctr.fit(X_train, y_train, verbose=0)\n",
    "    lgbmr.fit(X_train, y_train)\n",
    "    kernelridge.fit(X_train, y_train)\n",
    "    \n",
    "    #predictions\n",
    "    \n",
    "    y_pred_linreg = linreg.predict(X_test)\n",
    "    y_pred_logreg = logreg.predict(X_test)\n",
    "    y_pred_lasso = lasso.predict(X_test)\n",
    "    y_pred_ridge = ridge.predict(X_test)\n",
    "    y_pred_elasticnet = elasticnet.predict(X_test)\n",
    "    y_pred_gradboost = gradboost.predict(X_test)\n",
    "    y_pred_xgbr = xgbr.predict(X_test)\n",
    "    y_pred_ctr = ctr.predict(X_test)\n",
    "    y_pred_sgd = sgd.predict(X_test)\n",
    "    y_pred_lgbmr = lgbmr.predict(X_test)\n",
    "    y_pred_rfr = rfr.predict(X_test)\n",
    "    y_pred_rfc = rfc.predict(X_test)\n",
    "    y_pred_bayesianridge = bayesianridge.predict(X_test)\n",
    "    y_pred_kernelridge = kernelridge.predict(X_test)\n",
    "    \n",
    "    #results by model\n",
    "    \n",
    "    print(f\"LinReg: rmse = {mse(y_test, y_pred_linreg, squared=False)} R2_x = {linreg.score(X_test, y_test)} R2_y = {linreg.score(X_train, y_train)}\")\n",
    "    print(f\"LogReg: rmse = {mse(y_test, y_pred_logreg, squared=False)} R2_x = {logreg.score(X_test, y_test)} R2_y = {logreg.score(X_train, y_train)}\")\n",
    "    print(f\"Lasso: rmse = {mse(y_test, y_pred_lasso, squared=False)} R2_x = {lasso.score(X_test, y_test)} R2_y = {lasso.score(X_train, y_train)}\")\n",
    "    print(f\"Ridge: rmse = {mse(y_test, y_pred_ridge, squared=False)} R2_x = {ridge.score(X_test, y_test)} R2_y = {ridge.score(X_train, y_train)}\")\n",
    "    print(f\"ElasticNet: rmse = {mse(y_test, y_pred_elasticnet, squared=False)} R2_x = {elasticnet.score(X_test, y_test)} R2_y = {elasticnet.score(X_train, y_train)}\")\n",
    "    print(f\"GradBoost: rmse = {mse(y_test, y_pred_gradboost, squared=False)} R2_x = {gradboost.score(X_test, y_test)} R2_y = {gradboost.score(X_train, y_train)}\")\n",
    "    print(f\"XGBR: rmse = {mse(y_test, y_pred_xgbr, squared=False)} R2_x = {xgbr.score(X_test, y_test)} R2_y = {xgbr.score(X_train, y_train)}\")\n",
    "    print(f\"CTR: rmse = {mse(y_test, y_pred_ctr, squared=False)} R2_x = {ctr.score(X_test, y_test)} R2_y = {ctr.score(X_train, y_train)}\")\n",
    "    print(f\"LGBMR: rmse = {mse(y_test, y_pred_lgbmr, squared=False)} R2_x = {lgbmr.score(X_test, y_test)} R2_y = {lgbmr.score(X_train, y_train)}\")\n",
    "    print(f\"BayesianRidge: rmse = {mse(y_test, y_pred_bayesianridge, squared=False)} R2_x = {bayesianridge.score(X_test, y_test)} R2_y = {bayesianridge.score(X_train, y_train)}\")\n",
    "    print(f\"SGD: rmse = {mse(y_test, y_pred_sgd, squared=False)} R2_x = {sgd.score(X_test, y_test)} R2_y = {sgd.score(X_train, y_train)}\")\n",
    "    print(f\"RFR: rmse = {mse(y_test, y_pred_rfr, squared=False)} R2_x = {rfr.score(X_test, y_test)} R2_y = {rfr.score(X_train, y_train)}\")\n",
    "    print(f\"RFC: rmse = {mse(y_test, y_pred_rfc, squared=False)} R2_x = {rfc.score(X_test, y_test)} R2_y = {rfc.score(X_train, y_train)}\")\n",
    "    print(f\"KernelRidge: rmse = {mse(y_test, y_pred_kernelridge, squared=False)} R2_x = {kernelridge.score(X_test, y_test)} R2_y = {kernelridge.score(X_train, y_train)}\")\n"
   ]
  },
  {
   "cell_type": "code",
   "execution_count": 46,
   "id": "81427a04",
   "metadata": {},
   "outputs": [
    {
     "name": "stdout",
     "output_type": "stream",
     "text": [
      "LinReg: rmse = 40125.74897814646 R2_x = 0.5463481947759614 R2_y = 0.5556163566539272\n",
      "LogReg: rmse = 47662.41383288355 R2_x = 0.0 R2_y = 0.038461538461538464\n",
      "Lasso: rmse = 40121.6833625688 R2_x = 0.5464401198094089 R2_y = 0.5556162530577053\n",
      "Ridge: rmse = 39751.49858376804 R2_x = 0.554771095803793 R2_y = 0.5549736706247868\n",
      "ElasticNet: rmse = 40106.66031961221 R2_x = 0.5467797154252365 R2_y = 0.5046485529366749\n",
      "GradBoost: rmse = 43961.94899150321 R2_x = 0.45545946263912795 R2_y = 0.7486172286967286\n",
      "XGBR: rmse = 57863.20998523815 R2_x = 0.056631469143197166 R2_y = 0.8835498335840983\n",
      "CTR: rmse = 45906.74520774342 R2_x = 0.4062148334209611 R2_y = 0.8582714046819613\n",
      "LGBMR: rmse = 43488.38351250285 R2_x = 0.4671280381554972 R2_y = 0.6517814546354347\n",
      "BayesianRidge: rmse = 45374.52341248754 R2_x = 0.41990316958844176 R2_y = 0.383508275226913\n",
      "SGD: rmse = 2.9734589726174884e+18 R2_x = -2.491152076842222e+27 R2_y = -1.8031520399422818e+27\n",
      "RFR: rmse = 46575.08118065091 R2_x = 0.38879966916827036 R2_y = 0.8361731178630403\n",
      "RFC: rmse = 51746.86126531227 R2_x = 0.03278688524590164 R2_y = 0.6456043956043956\n",
      "KernelRidge: rmse = 39516.91405233484 R2_x = 0.5600104272372675 R2_y = 0.5545454653033522\n"
     ]
    }
   ],
   "source": [
    "models()"
   ]
  },
  {
   "cell_type": "markdown",
   "id": "d78fef84",
   "metadata": {},
   "source": [
    "## Select best model and compute"
   ]
  },
  {
   "cell_type": "code",
   "execution_count": 47,
   "id": "5882e295",
   "metadata": {},
   "outputs": [],
   "source": [
    "index_lst = [i for i in range(107)]"
   ]
  },
  {
   "cell_type": "code",
   "execution_count": 48,
   "id": "89a6dc0d",
   "metadata": {},
   "outputs": [],
   "source": [
    "X_train, X_test, y_train, y_test=tts(X, y, test_size = 0.01)"
   ]
  },
  {
   "cell_type": "code",
   "execution_count": 49,
   "id": "51d7a40e",
   "metadata": {},
   "outputs": [],
   "source": [
    "kernelridge = KernelRidge()\n",
    "kernelridge.fit(X_train, y_train)\n",
    "y_pred_kernelridge = kernelridge.predict(X_test)\n"
   ]
  },
  {
   "cell_type": "code",
   "execution_count": 50,
   "id": "dd847779",
   "metadata": {},
   "outputs": [],
   "source": [
    "test.drop(\"salary_in_usd\", axis=1, inplace=True)"
   ]
  },
  {
   "cell_type": "code",
   "execution_count": 51,
   "id": "9fe371f4",
   "metadata": {},
   "outputs": [],
   "source": [
    "y_pred_kernelridge = kernelridge.predict(test)"
   ]
  },
  {
   "cell_type": "code",
   "execution_count": 52,
   "id": "5649f59e",
   "metadata": {},
   "outputs": [],
   "source": [
    "results= pd.DataFrame({\"id\" : index_lst, \"salary_in_usd\" : y_pred_kernelridge})"
   ]
  },
  {
   "cell_type": "code",
   "execution_count": 53,
   "id": "e08bc874",
   "metadata": {},
   "outputs": [],
   "source": [
    "results.to_csv(\"results9.csv\", index=False)"
   ]
  }
 ],
 "metadata": {
  "kernelspec": {
   "display_name": "Python 3 (ipykernel)",
   "language": "python",
   "name": "python3"
  },
  "language_info": {
   "codemirror_mode": {
    "name": "ipython",
    "version": 3
   },
   "file_extension": ".py",
   "mimetype": "text/x-python",
   "name": "python",
   "nbconvert_exporter": "python",
   "pygments_lexer": "ipython3",
   "version": "3.8.13"
  }
 },
 "nbformat": 4,
 "nbformat_minor": 5
}
