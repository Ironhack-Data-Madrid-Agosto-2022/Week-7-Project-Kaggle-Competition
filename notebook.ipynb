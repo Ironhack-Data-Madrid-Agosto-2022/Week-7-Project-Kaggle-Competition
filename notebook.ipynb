{
 "cells": [
  {
   "cell_type": "code",
   "execution_count": null,
   "id": "44204a0d",
   "metadata": {},
   "outputs": [],
   "source": [
    "## Librerias\n",
    "%matplotlib inline\n",
    "\n",
    "import matplotlib.pyplot as plt\n",
    "import numpy as np\n",
    "import pandas as pd\n",
    "import seaborn as sns\n",
    "import warnings                                              \n",
    "from sklearn.exceptions import DataConversionWarning          \n",
    "warnings.filterwarnings(action='ignore', category=DataConversionWarning)\n",
    "pd.options.display.max_rows = None \n",
    "pd.options.display.max_columns = None"
   ]
  },
  {
   "cell_type": "code",
   "execution_count": null,
   "id": "6fb0b84c",
   "metadata": {},
   "outputs": [],
   "source": [
    "df_salary = pd.read_csv('data/salaries_data.csv')\n",
    "df_test = pd.read_csv('data/test.csv')\n",
    "df_salary_med = pd.read_csv('data/USD_medio_pais.csv', sep=';')\n",
    "df_sample = pd.read_csv('data/sample.csv', sep=',')"
   ]
  },
  {
   "cell_type": "code",
   "execution_count": null,
   "id": "97048b1e",
   "metadata": {},
   "outputs": [],
   "source": [
    "df_salary.head(10)"
   ]
  },
  {
   "cell_type": "code",
   "execution_count": null,
   "id": "0f7e88b9",
   "metadata": {},
   "outputs": [],
   "source": [
    "## Primero concatenamos el fichero donde tendremos que predecir el salario con el que ya tenemos\n",
    "## De esta forma aplicaremos los mismos cambios en ambas directamente\n",
    "df_salary = pd.concat([df_salary, df_test]).reset_index(drop=True)"
   ]
  },
  {
   "cell_type": "code",
   "execution_count": null,
   "id": "3d5e515f",
   "metadata": {},
   "outputs": [],
   "source": [
    "## Realizaremos una exploración de las columnas para comprender que información refleja cada una\n",
    "## Si hay nulos o no y tipos de dato por columna\n",
    "df_salary.info()\n",
    "print('\\n',df_salary.shape)\n",
    "df_salary.isna().sum()"
   ]
  },
  {
   "cell_type": "code",
   "execution_count": null,
   "id": "b86364cf",
   "metadata": {},
   "outputs": [],
   "source": [
    "df_salary.experience_level.unique()\n",
    "# SE - Senior\n",
    "# MI - Mid-level\n",
    "# EN - Entry-level\n",
    "# EX - Expert-level"
   ]
  },
  {
   "cell_type": "code",
   "execution_count": null,
   "id": "c041c22b",
   "metadata": {},
   "outputs": [],
   "source": [
    "df_salary.employment_type.unique()\n",
    "# FT - Full Time\n",
    "# PT - Part Time\n",
    "# FL - No compromise by any parts\n",
    "# CT - Complete Time (?)"
   ]
  },
  {
   "cell_type": "code",
   "execution_count": null,
   "id": "674caef3",
   "metadata": {},
   "outputs": [],
   "source": [
    "df_salary[df_salary.employment_type=='CT']"
   ]
  },
  {
   "cell_type": "code",
   "execution_count": null,
   "id": "69ffc74c",
   "metadata": {},
   "outputs": [],
   "source": [
    "df_salary[df_salary.employment_type=='FL']"
   ]
  },
  {
   "cell_type": "code",
   "execution_count": null,
   "id": "4df6c858",
   "metadata": {},
   "outputs": [],
   "source": [
    "## Comenzamos normalizando algunas de las columnas que tienen menos datos diferentes"
   ]
  },
  {
   "cell_type": "code",
   "execution_count": null,
   "id": "7f0e2be2",
   "metadata": {},
   "outputs": [],
   "source": [
    "print(df_salary[df_salary.employment_type=='CT'].mean()) # CT pesa el doble que FT\n",
    "print(df_salary[df_salary.employment_type=='FT'].mean())\n",
    "print(df_salary[df_salary.employment_type=='FL'].mean()) # PT pesa 1.35 FL\n",
    "print(df_salary[df_salary.employment_type=='PT'].mean())"
   ]
  },
  {
   "cell_type": "code",
   "execution_count": null,
   "id": "8e0adb13",
   "metadata": {},
   "outputs": [],
   "source": [
    "df_salary.employment_type = df_salary.employment_type.replace({'CT':222, 'FT':113, 'FL':48, 'PT':35})"
   ]
  },
  {
   "cell_type": "code",
   "execution_count": null,
   "id": "15fa2f34",
   "metadata": {},
   "outputs": [],
   "source": [
    "df_salary.job_title.unique() # Normalizamos"
   ]
  },
  {
   "cell_type": "code",
   "execution_count": null,
   "id": "169fc914",
   "metadata": {},
   "outputs": [],
   "source": [
    "## Normalizamos los tipos de trabajos dándo a cada grupo el peso de la media de salarios que contiene"
   ]
  },
  {
   "cell_type": "code",
   "execution_count": null,
   "id": "6fd6fcc7",
   "metadata": {},
   "outputs": [],
   "source": [
    "heads = ['principal', 'architect', 'lead', 'head', 'director', 'manager','specialist']"
   ]
  },
  {
   "cell_type": "code",
   "execution_count": null,
   "id": "08c160f9",
   "metadata": {},
   "outputs": [],
   "source": [
    "column_aux = []\n",
    "for ind, e in enumerate(df_salary.job_title):\n",
    "    f = 0\n",
    "    encontrado = False\n",
    "    while f < len(heads) and encontrado == False:\n",
    "        if heads[f] in e.lower():\n",
    "            column_aux.append(15) #head\n",
    "            encontrado = True\n",
    "        else:\n",
    "            f+=1\n",
    "    if 'analyst' in e.lower() and encontrado == False:\n",
    "        column_aux.append(9.4)#analyst\n",
    "    elif 'engineer' in e.lower() and encontrado == False:\n",
    "        column_aux.append(10.7) #engineer\n",
    "    elif 'sci' in e.lower() and encontrado == False:\n",
    "        column_aux.append(11.1)  #scientist\n",
    "    elif 'dev' in e.lower() and encontrado == False:\n",
    "        column_aux.append(6.6) # dev\n",
    "    elif 'search' in e.lower() and encontrado == False:\n",
    "        column_aux.append(0.5) #res"
   ]
  },
  {
   "cell_type": "code",
   "execution_count": null,
   "id": "cdc4ed7b",
   "metadata": {},
   "outputs": [],
   "source": [
    "df_salary.experience_level = df_salary.experience_level.replace({'SE':2, 'MI':1, 'EN':0, 'EX':4})\n",
    "df_salary.employment_type = df_salary.employment_type.replace({'PT':0, 'FT':1})\n",
    "df_salary.job_title = column_aux"
   ]
  },
  {
   "cell_type": "code",
   "execution_count": null,
   "id": "b9d321b7",
   "metadata": {},
   "outputs": [],
   "source": [
    "## Enriquecemos el dataframe con la media de salario para ingenieros por pais"
   ]
  },
  {
   "cell_type": "code",
   "execution_count": null,
   "id": "e1c0beee",
   "metadata": {},
   "outputs": [],
   "source": [
    "dictio = dict(zip(df_salary_med['Siglas'], df_salary_med['USD ANUAL']))\n",
    "df_salary['mean_by_emp_location'] = df_salary.employee_residence.replace(dictio)\n",
    "df_salary.company_size = df_salary.company_size.replace({'M':1, 'L':2, 'S':0})"
   ]
  },
  {
   "cell_type": "code",
   "execution_count": null,
   "id": "d2829e25",
   "metadata": {},
   "outputs": [],
   "source": [
    "mascara = np.triu(np.ones_like(df_salary.corr(), dtype=bool))\n",
    "\n",
    "sns.heatmap(df_salary.corr(), annot=True, mask = mascara)\n",
    "\n",
    "plt.show()"
   ]
  },
  {
   "cell_type": "code",
   "execution_count": null,
   "id": "8e9f9ae5",
   "metadata": {},
   "outputs": [],
   "source": [
    "dictio_pais = dict((df_salary.employee_residence.value_counts(ascending=False)/df_salary.employee_residence.shape[0]*100))#[:15])"
   ]
  },
  {
   "cell_type": "code",
   "execution_count": null,
   "id": "0c8ff6af",
   "metadata": {},
   "outputs": [],
   "source": [
    "df_salary.employee_residence = [dictio_pais[e] if e in dictio_pais.keys() else 0 for e in df_salary.employee_residence]\n",
    "df_salary.company_location = [dictio_pais[e] if e in dictio_pais.keys() else 0 for e in df_salary.company_location]"
   ]
  },
  {
   "cell_type": "code",
   "execution_count": null,
   "id": "5ba2b63b",
   "metadata": {},
   "outputs": [],
   "source": [
    "mascara = np.triu(np.ones_like(df_salary.corr(), dtype=bool))\n",
    "\n",
    "sns.heatmap(df_salary.corr(), annot=True, mask = mascara)\n",
    "\n",
    "plt.show()"
   ]
  },
  {
   "cell_type": "code",
   "execution_count": null,
   "id": "ca580baa",
   "metadata": {},
   "outputs": [],
   "source": [
    "df_salary = df_salary.drop(columns=['work_year', 'employment_type', 'job_title', 'remote_ratio', 'company_size'])\n",
    "df_salary.shape"
   ]
  },
  {
   "cell_type": "markdown",
   "id": "b08f7b53",
   "metadata": {},
   "source": [
    " "
   ]
  },
  {
   "cell_type": "code",
   "execution_count": null,
   "id": "081329c5",
   "metadata": {},
   "outputs": [],
   "source": [
    "## Librerias ML\n",
    "\n",
    "from sklearn.model_selection import train_test_split as tts \n",
    "\n",
    "from sklearn.linear_model import LinearRegression as LinReg\n",
    "from sklearn.linear_model import Lasso        # regularizacion L1\n",
    "from sklearn.linear_model import Ridge        # regularizacion L2\n",
    "from sklearn.linear_model import ElasticNet   # regularizacion L1+L2\n",
    "from sklearn.svm import SVR  # support vector regressor\n",
    "from sklearn.ensemble import RandomForestRegressor as RFR  \n",
    "from sklearn.tree import ExtraTreeRegressor as ETR\n",
    "from sklearn.ensemble import GradientBoostingRegressor as GBR\n",
    "from xgboost import XGBRegressor as XGBR\n",
    "from catboost import CatBoostRegressor as CTR\n",
    "from sklearn.linear_model import LogisticRegression as LogReg\n",
    "\n",
    "## Métricas ML\n",
    "from sklearn.metrics import mean_squared_error as mse  # error cuadratico medio\n",
    "from sklearn.metrics import mean_absolute_error as mae  # estos alias tmb son cosa mia\n",
    "from sklearn.metrics import r2_score as r2"
   ]
  },
  {
   "cell_type": "code",
   "execution_count": null,
   "id": "f52ed5cf",
   "metadata": {},
   "outputs": [],
   "source": [
    "# Los 500 primeros elementos es la muestra total de donde usaremos una parte para entrenar nuestros modelos\n",
    "\n",
    "X = df_salary[0:500].drop(columns=['salary_in_usd'])\n",
    "y = df_salary[0:500].salary_in_usd\n",
    "\n",
    "X_train, X_test, y_train, y_test = tts(X, y, train_size=0.75)#, random_state=22)\n",
    "\n",
    "X_objetive = df_salary[500:].drop(columns=['salary_in_usd']) # Hay que predecir sobre esta parte\n",
    "#y_test = df_salary[500:].salary_in_usd"
   ]
  },
  {
   "cell_type": "code",
   "execution_count": null,
   "id": "811ab5cd",
   "metadata": {},
   "outputs": [],
   "source": [
    "linreg=LinReg()\n",
    "lasso=Lasso()\n",
    "ridge=Ridge()\n",
    "elastic=ElasticNet()\n",
    "svr=SVR()\n",
    "rfr=RFR()\n",
    "etr=ETR()\n",
    "gbr=GBR()\n",
    "xgbr=XGBR()\n",
    "ctr=CTR()\n",
    "\n",
    "nombres = ['linreg', 'lasso', 'ridge', 'elastic', 'svr', 'rfr', 'etr', 'gbr', 'xgbr', 'ctr']\n",
    "modelos = []\n",
    "modelos.append(linreg)\n",
    "modelos.append(lasso)\n",
    "modelos.append(ridge)\n",
    "modelos.append(elastic)\n",
    "modelos.append(svr)\n",
    "modelos.append(rfr)\n",
    "modelos.append(etr)\n",
    "modelos.append(gbr)\n",
    "modelos.append(xgbr)\n",
    "modelos.append(ctr)"
   ]
  },
  {
   "cell_type": "code",
   "execution_count": null,
   "id": "61f25c17",
   "metadata": {},
   "outputs": [],
   "source": [
    "results = []\n",
    "for ind,modelo in enumerate(modelos):\n",
    "    aux=[]\n",
    "    if nombres[ind]=='ctr':\n",
    "        modelo.fit(X_train, y_train, verbose=0)\n",
    "    else:\n",
    "        modelo.fit(X_train, y_train)\n",
    "        \n",
    "    y_pred = modelo.predict(X_test)\n",
    "    y_pred_train = modelo.predict(X_train)\n",
    "    \n",
    "    aux.append(nombres[ind])\n",
    "    aux.append(mse(y_test, y_pred, squared=False))\n",
    "    aux.append(mse(y_train, y_pred_train, squared=False))\n",
    "    aux.append(modelo.score(X_train, y_train))\n",
    "    aux.append(modelo.score(X_test, y_test))\n",
    "    \n",
    "    results.append(aux)"
   ]
  },
  {
   "cell_type": "code",
   "execution_count": null,
   "id": "4d14c364",
   "metadata": {},
   "outputs": [],
   "source": [
    "# Buscaremos el modelo que menor RMSE presente teniendo en cuenta el score en segundo plano\n",
    "display(results)"
   ]
  },
  {
   "cell_type": "code",
   "execution_count": null,
   "id": "f6feddaf",
   "metadata": {},
   "outputs": [],
   "source": [
    "# Optamos por el GBR \n",
    "ctr=CTR()\n",
    "ctr.fit(X, y)\n",
    "y_pred = ctr.predict(X_objetive)"
   ]
  },
  {
   "cell_type": "code",
   "execution_count": null,
   "id": "2a98d063",
   "metadata": {},
   "outputs": [],
   "source": [
    "ctr.score(X, y)"
   ]
  },
  {
   "cell_type": "code",
   "execution_count": null,
   "id": "1abb6893",
   "metadata": {},
   "outputs": [],
   "source": [
    "y_pred"
   ]
  },
  {
   "cell_type": "code",
   "execution_count": null,
   "id": "94253405",
   "metadata": {},
   "outputs": [],
   "source": [
    "len(y_pred)"
   ]
  },
  {
   "cell_type": "code",
   "execution_count": null,
   "id": "c7e3785b",
   "metadata": {},
   "outputs": [],
   "source": [
    "df_sample.salary_in_usd = y_pred\n",
    "df_sample.to_csv('data/result.csv', index=False)"
   ]
  }
 ],
 "metadata": {
  "kernelspec": {
   "display_name": "Python 3 (ipykernel)",
   "language": "python",
   "name": "python3"
  },
  "language_info": {
   "codemirror_mode": {
    "name": "ipython",
    "version": 3
   },
   "file_extension": ".py",
   "mimetype": "text/x-python",
   "name": "python",
   "nbconvert_exporter": "python",
   "pygments_lexer": "ipython3",
   "version": "3.9.12"
  }
 },
 "nbformat": 4,
 "nbformat_minor": 5
}
